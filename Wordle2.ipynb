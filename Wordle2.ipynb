{
 "cells": [
  {
   "cell_type": "code",
   "execution_count": 1,
   "id": "8b0378c5",
   "metadata": {},
   "outputs": [],
   "source": [
    "filename = \"words.txt\"\n",
    "\n",
    "with open(filename) as f:\n",
    "    word_list = f.readlines()\n",
    "word_list = [word[:5] for word in word_list]"
   ]
  },
  {
   "cell_type": "code",
   "execution_count": 2,
   "id": "ce1be9c8",
   "metadata": {},
   "outputs": [],
   "source": [
    "filename2 = \"target.txt\"\n",
    "\n",
    "with open(filename2) as f:\n",
    "    word_target = f.readlines()\n",
    "word_target = [word[:5] for word in word_target]"
   ]
  },
  {
   "cell_type": "code",
   "execution_count": 3,
   "id": "1a506089",
   "metadata": {},
   "outputs": [],
   "source": [
    "import numpy as np\n",
    "\n",
    "word_array = np.zeros((len(word_list), 5))\n",
    "target_array = np.zeros((len(word_target), 5))\n",
    "\n",
    "for i in range(len(word_list)):\n",
    "    word_array[i] = [ord(character)-96 for character in word_list[i]]\n",
    "    \n",
    "for i in range(len(word_target)):\n",
    "    target_array[i] = [ord(character)-96 for character in word_target[i]]"
   ]
  },
  {
   "cell_type": "code",
   "execution_count": 4,
   "id": "0f50c699",
   "metadata": {},
   "outputs": [],
   "source": [
    "scoring = [2, 6, 18, 54, 162, 1, 3, 9, 27, 81, 1, 3, 9, 27, 81, 1, 3, 9, 27, 81, 1, 3, 9, 27, 81]\n",
    "def simi_scores(target_vec, word_array):\n",
    "    target_vec2 = np.concatenate((target_vec, target_vec[1:], target_vec[:1], target_vec[2:], \n",
    "                                  target_vec[:2], target_vec[3:], target_vec[:3], target_vec[4:], target_vec[:4]))\n",
    "    word_array2 = np.concatenate((word_array, word_array, word_array, word_array, word_array), axis = 1)\n",
    "    word_array2 = target_vec2 - word_array2\n",
    "    word_array2 = (word_array2 == 0)\n",
    "    simi_scores = word_array2@scoring\n",
    "    return simi_scores"
   ]
  },
  {
   "cell_type": "code",
   "execution_count": 5,
   "id": "cc33dfa6",
   "metadata": {},
   "outputs": [],
   "source": [
    "similarity_array = np.zeros((len(word_target), len(word_list)))\n",
    "for i in range(len(word_target)):\n",
    "    similarity_array[i] = simi_scores(target_array[i], word_array)\n",
    "simi_list = [similarity_array[i].tolist() for i in range(len(similarity_array))]"
   ]
  },
  {
   "cell_type": "code",
   "execution_count": 6,
   "id": "5b1c966a",
   "metadata": {},
   "outputs": [],
   "source": [
    "def find_word(word):\n",
    "    return word_list.index(word)\n",
    "\n",
    "def find_target(target):\n",
    "    return word_target.index(target)\n",
    "\n",
    "def filter(test_word, score, original):\n",
    "    word = find_word(test_word)\n",
    "    return [i for i in original if similarity_array[i, word] == score]\n",
    "\n",
    "def display(list):\n",
    "    words = []\n",
    "    for i in list:\n",
    "        words.append(word_target[i])\n",
    "    return words\n",
    "\n",
    "def filter_by_matrix(word, score, original):\n",
    "    simi_list = [vec for vec in original if vec[word] == score]\n",
    "    return simi_list"
   ]
  },
  {
   "cell_type": "code",
   "execution_count": 8,
   "id": "b84d5b3e",
   "metadata": {},
   "outputs": [],
   "source": [
    "def check_for_split(simi_list):\n",
    "    if len(simi_list) == 0:\n",
    "        return 1\n",
    "    array = np.transpose(np.array(simi_list))\n",
    "    lengths = [len(np.unique(array[i])) for i in range(len(word_list))]\n",
    "    return max(lengths)/len(simi_list)"
   ]
  },
  {
   "cell_type": "code",
   "execution_count": 9,
   "id": "b5af44dc",
   "metadata": {
    "scrolled": true
   },
   "outputs": [],
   "source": [
    "sum = 0\n",
    "lengths = []\n",
    "split = []\n",
    "for j in range(243):\n",
    "    ori = filter_by_matrix(20, j, simi_list)\n",
    "    for i in range(243):\n",
    "        x = filter_by_matrix(i, i, ori)\n",
    "        if len(x) < 50:\n",
    "            lengths.append(len(x))\n",
    "            split.append(check_for_split(x))"
   ]
  },
  {
   "cell_type": "code",
   "execution_count": 10,
   "id": "8c5122b8",
   "metadata": {},
   "outputs": [
    {
     "data": {
      "image/png": "[encoded data removed]",
      "text/plain": [
       "<Figure size 432x288 with 1 Axes>"
      ]
     },
     "metadata": {
      "needs_background": "light"
     },
     "output_type": "display_data"
    }
   ],
   "source": [
    "import matplotlib.pyplot as plt\n",
    "\n",
    "plt.scatter(lengths, split)\n",
    "plt.show()"
   ]
  },
  {
   "cell_type": "code",
   "execution_count": 11,
   "id": "b556ad7c",
   "metadata": {},
   "outputs": [],
   "source": [
    "def best_next_word_matrix(original):\n",
    "    best_score = 10000\n",
    "    best_word = \"None!\"\n",
    "    best_chance = 0\n",
    "    if len(original) == 0:\n",
    "        return best_word, 0\n",
    "    for i in range(100): #range(len(word_list)):\n",
    "        score = 0\n",
    "        chance = 0\n",
    "        for j in range(243):\n",
    "            simi_list = filter_by_matrix(i, j, original)\n",
    "            length = len(simi_list)\n",
    "            if length < 2:\n",
    "                continue\n",
    "            elif length < 11:\n",
    "                score += length\n",
    "            else:\n",
    "                score += length*1.2 #(2-check_for_split(simi_list))\n",
    "        if score < best_score:\n",
    "            best_word = word_list[i]\n",
    "            best_score = score\n",
    "\n",
    "    return best_word, 1 + best_score/len(original)"
   ]
  },
  {
   "cell_type": "code",
   "execution_count": 12,
   "id": "9a95006b",
   "metadata": {},
   "outputs": [],
   "source": [
    "def test_first_word(word):\n",
    "    results = []\n",
    "    total_score = 0\n",
    "    y = find_word(word)\n",
    "    for i in range(243):\n",
    "        x = filter_by_matrix(y, i, simi_list)\n",
    "        word, score = best_next_word_matrix(x)\n",
    "        total_score += score*len(x)\n",
    "        results.append((i, word, score))\n",
    "    return 1 + total_score/len(word_target)"
   ]
  },
  {
   "cell_type": "code",
   "execution_count": 13,
   "id": "9e8d3893",
   "metadata": {},
   "outputs": [
    {
     "name": "stdout",
     "output_type": "stream",
     "text": [
      "adieu:2.7344276457883367\n",
      "reais:2.6463066954643626\n",
      "ratio:2.6630669546436287\n",
      "irate:2.5746868250539956\n",
      "stain:2.6703239740820734\n",
      "stare:2.5670842332613395\n",
      "ouija:2.80682505399568\n",
      "audio:2.7187041036717066\n",
      "react:2.621684665226782\n",
      "sired:2.6437149028077758\n",
      "tears:2.6202159827213825\n",
      "worse:2.6500215982721382\n",
      "atone:2.6037149028077753\n",
      "arise:2.5903239740820734\n",
      "raise:2.581511879049676\n",
      "pizza:2.8657451403887686\n"
     ]
    }
   ],
   "source": [
    "words = ['adieu', 'reais', 'ratio', 'irate', 'stain', 'stare', 'ouija', 'audio', 'react', 'sired', 'tears', 'worse', 'atone', 'arise', 'raise', 'pizza']\n",
    "for word in words:\n",
    "    print(f\"{word}:{test_first_word(word)}\")"
   ]
  },
  {
   "cell_type": "code",
   "execution_count": 14,
   "id": "7ff1b9d4",
   "metadata": {},
   "outputs": [],
   "source": [
    "def simi_from_colour(list):\n",
    "    sum = 0\n",
    "    for i in range(5):\n",
    "        sum += list[i]*(3**i)\n",
    "    return sum"
   ]
  },
  {
   "cell_type": "code",
   "execution_count": 15,
   "id": "fee0e891",
   "metadata": {},
   "outputs": [
    {
     "data": {
      "text/plain": [
       "60"
      ]
     },
     "execution_count": 15,
     "metadata": {},
     "output_type": "execute_result"
    }
   ],
   "source": [
    "simi_from_colour([0,2,0,2,0])"
   ]
  },
  {
   "cell_type": "code",
   "execution_count": 16,
   "id": "6378611c",
   "metadata": {},
   "outputs": [
    {
     "name": "stdout",
     "output_type": "stream",
     "text": [
      "['wrung', 'drunk']\n"
     ]
    }
   ],
   "source": [
    "x = filter('reais', 1, range(2315))\n",
    "y = filter('tronc', 60, x)\n",
    "print(display(y))"
   ]
  },
  {
   "cell_type": "code",
   "execution_count": null,
   "id": "5ea3f957",
   "metadata": {},
   "outputs": [],
   "source": []
  }
 ],
 "metadata": {
  "kernelspec": {
   "display_name": "Python 3",
   "language": "python",
   "name": "python3"
  },
  "language_info": {
   "codemirror_mode": {
    "name": "ipython",
    "version": 3
   },
   "file_extension": ".py",
   "mimetype": "text/x-python",
   "name": "python",
   "nbconvert_exporter": "python",
   "pygments_lexer": "ipython3",
   "version": "3.8.8"
  }
 },
 "nbformat": 4,
 "nbformat_minor": 5
}
