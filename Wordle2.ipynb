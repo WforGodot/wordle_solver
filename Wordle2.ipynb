{
  "cells": [
    {
      "cell_type": "markdown",
      "metadata": {
        "id": "view-in-github",
        "colab_type": "text"
      },
      "source": [
        "<a href=\"https://colab.research.google.com/github/WforGodot/wordle_solver/blob/main/Wordle2.ipynb\" target=\"_parent\"><img src=\"https://colab.research.google.com/assets/colab-badge.svg\" alt=\"Open In Colab\"/></a>"
      ]
    },
    {
      "cell_type": "code",
      "execution_count": 1,
      "id": "98850417",
      "metadata": {
        "id": "98850417"
      },
      "outputs": [],
      "source": [
        "import numpy as np\n",
        "import os\n",
        "from time import time"
      ]
    },
    {
      "cell_type": "code",
      "source": [
        "from google.colab import drive\n",
        "drive.mount('/content/drive')\n",
        "dir = \"/content/drive/MyDrive/Early Code/Wordle/\""
      ],
      "metadata": {
        "colab": {
          "base_uri": "https://localhost:8080/"
        },
        "id": "C84KsX1KApLH",
        "outputId": "92052201-8ef7-4017-92a2-cb7cbfbf7744"
      },
      "id": "C84KsX1KApLH",
      "execution_count": 15,
      "outputs": [
        {
          "output_type": "stream",
          "name": "stdout",
          "text": [
            "Drive already mounted at /content/drive; to attempt to forcibly remount, call drive.mount(\"/content/drive\", force_remount=True).\n"
          ]
        }
      ]
    },
    {
      "cell_type": "code",
      "execution_count": 3,
      "id": "8b0378c5",
      "metadata": {
        "id": "8b0378c5"
      },
      "outputs": [],
      "source": [
        "filename = \"/content/drive/MyDrive/Early Code/Wordle/words.txt\"\n",
        "\n",
        "with open(filename) as f:\n",
        "    word_list = f.readlines()\n",
        "word_list = [word[:5] for word in word_list]"
      ]
    },
    {
      "cell_type": "code",
      "execution_count": 4,
      "id": "ce1be9c8",
      "metadata": {
        "id": "ce1be9c8"
      },
      "outputs": [],
      "source": [
        "filename2 = \"/content/drive/MyDrive/Early Code/Wordle/target.txt\"\n",
        "\n",
        "with open(filename2) as f:\n",
        "    word_target = f.readlines()\n",
        "word_target = [word[:5] for word in word_target]"
      ]
    },
    {
      "cell_type": "code",
      "execution_count": 5,
      "id": "1a506089",
      "metadata": {
        "id": "1a506089"
      },
      "outputs": [],
      "source": [
        "word_array = np.zeros((len(word_list), 5))\n",
        "target_array = np.zeros((len(word_target), 5))\n",
        "\n",
        "for i in range(len(word_list)):\n",
        "    word_array[i] = [ord(character)-96 for character in word_list[i]]\n",
        "    \n",
        "for i in range(len(word_target)):\n",
        "    target_array[i] = [ord(character)-96 for character in word_target[i]]"
      ]
    },
    {
      "cell_type": "code",
      "execution_count": 6,
      "id": "0f50c699",
      "metadata": {
        "id": "0f50c699"
      },
      "outputs": [],
      "source": [
        "scoring = [2, 6, 18, 54, 162, 1, 3, 9, 27, 81, 1, 3, 9, 27, 81, 1, 3, 9, 27, 81, 1, 3, 9, 27, 81]\n",
        "def simi_scores(target_vec, word_array):\n",
        "    target_vec2 = np.concatenate((target_vec, target_vec[1:], target_vec[:1], target_vec[2:], \n",
        "                                  target_vec[:2], target_vec[3:], target_vec[:3], target_vec[4:], target_vec[:4]))\n",
        "    word_array2 = np.concatenate((word_array, word_array, word_array, word_array, word_array), axis = 1)\n",
        "    word_array2 = target_vec2 - word_array2\n",
        "    word_array2 = (word_array2 == 0)\n",
        "    simi_scores = word_array2@scoring\n",
        "    return simi_scores"
      ]
    },
    {
      "cell_type": "code",
      "execution_count": 7,
      "id": "cc33dfa6",
      "metadata": {
        "id": "cc33dfa6"
      },
      "outputs": [],
      "source": [
        "similarity_array = np.zeros((len(word_target), len(word_list)))\n",
        "for i in range(len(word_target)):\n",
        "    similarity_array[i] = simi_scores(target_array[i], word_array)\n",
        "simi_list = [similarity_array[i].tolist() for i in range(len(similarity_array))]"
      ]
    },
    {
      "cell_type": "code",
      "execution_count": 8,
      "id": "5b1c966a",
      "metadata": {
        "id": "5b1c966a"
      },
      "outputs": [],
      "source": [
        "def find_word(word):\n",
        "    return word_list.index(word)\n",
        "\n",
        "def find_target(target):\n",
        "    return word_target.index(target)\n",
        "\n",
        "def filter(test_word, score, original):\n",
        "    word = find_word(test_word)\n",
        "    return [i for i in original if similarity_array[i, word] == score]\n",
        "\n",
        "def display(list):\n",
        "    words = []\n",
        "    for i in list:\n",
        "        words.append(word_target[i])\n",
        "    return words\n",
        "\n",
        "def filter_by_matrix(word, score, original):\n",
        "    simi_list = [vec for vec in original if vec[word] == score]\n",
        "    return simi_list\n",
        "\n",
        "def return_filtered_length(word, score, original):\n",
        "    return len([1 for vec in original if vec[word] == score])\n",
        "\n",
        "def length_heuristic(length):\n",
        "    if length < 2:\n",
        "        return 0\n",
        "    elif length < 10:\n",
        "        return length\n",
        "    elif length < 20:\n",
        "        return length*1.3 #(2-check_for_split(simi_list))\n",
        "    else: \n",
        "        return length*1.7\n",
        "    \n",
        "def find_word_from_vec(vec):\n",
        "    return find_word(word_target[simi_list.index(vec)])"
      ]
    },
    {
      "cell_type": "code",
      "execution_count": 9,
      "id": "b84d5b3e",
      "metadata": {
        "id": "b84d5b3e"
      },
      "outputs": [],
      "source": [
        "def check_for_split(simi_list):\n",
        "    if len(simi_list) == 0:\n",
        "        return 1\n",
        "    array = np.transpose(np.array(simi_list))\n",
        "    lengths = [len(np.unique(array[i])) for i in range(len(word_list))]\n",
        "    return max(lengths)/len(simi_list)"
      ]
    },
    {
      "cell_type": "code",
      "execution_count": 25,
      "id": "b5af44dc",
      "metadata": {
        "scrolled": true,
        "id": "b5af44dc"
      },
      "outputs": [],
      "source": [
        "lengths = []\n",
        "split = []\n",
        "for j in range(243):\n",
        "    ori = filter_by_matrix(20, j, simi_list)\n",
        "    for i in range(243):\n",
        "        x = filter_by_matrix(i, i, ori)\n",
        "        if len(x) < 50:\n",
        "            lengths.append(len(x))\n",
        "            split.append(check_for_split(x))"
      ]
    },
    {
      "cell_type": "code",
      "execution_count": 26,
      "id": "8c5122b8",
      "metadata": {
        "colab": {
          "base_uri": "https://localhost:8080/",
          "height": 287
        },
        "id": "8c5122b8",
        "outputId": "1f7d40a8-a3e8-4134-a0b4-02047bc77aef"
      },
      "outputs": [
        {
          "output_type": "display_data",
          "data": {
            "image/png": "[encoded data removed]",
            "text/plain": [
              "<Figure size 432x288 with 1 Axes>"
            ]
          },
          "metadata": {
            "needs_background": "light"
          }
        }
      ],
      "source": [
        "import matplotlib.pyplot as plt\n",
        "\n",
        "plt.xlabel('Number of words')\n",
        "plt.ylabel('Number of buckets post-split/Number of words')\n",
        "plt.scatter(lengths, split)\n",
        "plt.show()"
      ]
    },
    {
      "cell_type": "code",
      "execution_count": 31,
      "id": "b556ad7c",
      "metadata": {
        "id": "b556ad7c"
      },
      "outputs": [],
      "source": [
        "check = len(word_list)\n",
        "def best_next_word_matrix(original):\n",
        "    best_word = \"None!\"\n",
        "    \n",
        "    if len(original) == 0:\n",
        "        return best_word, 0\n",
        "    \n",
        "    matching_words = [find_word_from_vec(vec) for vec in original]\n",
        "    matching_scores = np.array([i in matching_words for i in range(check)])\n",
        "    scores = [sum([length_heuristic(return_filtered_length(i, j, original)) for j in range(243)]) for i in range(check)]\n",
        "    scores_np = np.array(scores) - matching_scores\n",
        "    #best = np.argmin(scores_np)\n",
        "    \n",
        "    ind = np.argpartition(scores_np, 9)[:10]\n",
        "    best_score = 10000\n",
        "    #scores2 = []\n",
        "    for x in ind:\n",
        "        score = 0\n",
        "        for j in range(243):\n",
        "            simi_list = filter_by_matrix(x, j, original)\n",
        "            length = len(simi_list)\n",
        "            if length < 2:\n",
        "                continue\n",
        "            elif length < 6:\n",
        "                score += length\n",
        "            else:\n",
        "                score += (3 - 2*check_for_split(simi_list))*length\n",
        "        if x in matching_words:\n",
        "            score -= 1\n",
        "        #scores2.append(score)\n",
        "        if score < best_score:\n",
        "            best_word = word_list[x]\n",
        "            best_score = score\n",
        "\n",
        "    return best_word, 1 + best_score/len(original)"
      ]
    },
    {
      "cell_type": "code",
      "execution_count": 11,
      "id": "3f42e088",
      "metadata": {
        "id": "3f42e088"
      },
      "outputs": [],
      "source": [
        "def best_next_word_matrix2(original):\n",
        "    best_score = 10000\n",
        "    best_word = \"None!\"\n",
        "    best_chance = 0\n",
        "    original_np = np.transpose(np.array(original))\n",
        "    if len(original) == 0:\n",
        "        return best_word, 0\n",
        "    for i in range(1000): #range(len(word_list)):\n",
        "        chance = 0\n",
        "        lengths = [length_heuristic(return_filtered_length(i, j, original_np)) for j in range(243)]\n",
        "        score = sum(lengths)\n",
        "    \n",
        "        if score < best_score:\n",
        "            best_word = word_list[i]\n",
        "            best_score = score\n",
        "\n",
        "    return best_word, 1 + best_score/len(original)"
      ]
    },
    {
      "cell_type": "code",
      "execution_count": 12,
      "id": "7ff1b9d4",
      "metadata": {
        "id": "7ff1b9d4"
      },
      "outputs": [],
      "source": [
        "def simi_from_colour(list):\n",
        "    sum = 0\n",
        "    for i in range(5):\n",
        "        sum += list[i]*(3**i)\n",
        "    return sum\n",
        "def colour_from_simi(simi):\n",
        "    colour = [0,0,0,0,0]\n",
        "    for i in [4,3,2,1,0]:\n",
        "        x = simi//3**i\n",
        "        simi -= x*3**i\n",
        "        colour[i] = x\n",
        "    return colour"
      ]
    },
    {
      "cell_type": "code",
      "execution_count": 16,
      "id": "9a95006b",
      "metadata": {
        "id": "9a95006b"
      },
      "outputs": [],
      "source": [
        "def test_first_word(word):\n",
        "    results = []\n",
        "    total_score = 0\n",
        "    y = find_word(word)\n",
        "    for i in range(243):\n",
        "        x = filter_by_matrix(y, i, simi_list)\n",
        "        word_, score = best_next_word_matrix(x)\n",
        "        total_score += score*len(x)\n",
        "        results.append((i, word_, score))\n",
        "        \n",
        "    try: \n",
        "        os.remove(f'{dir}{word}.txt')\n",
        "    except: \n",
        "        None\n",
        "        \n",
        "    with open(f'{dir}{word}.txt', 'w') as fp:\n",
        "        for (i, word_, score) in results:\n",
        "            fp.write(f\"{colour_from_simi(i)}: {word_}, {score}\\n\")\n",
        "        fp.close()\n",
        "    \n",
        "    return 1 + total_score/len(word_target)"
      ]
    },
    {
      "cell_type": "code",
      "execution_count": 17,
      "id": "1ba903b7",
      "metadata": {
        "colab": {
          "base_uri": "https://localhost:8080/"
        },
        "id": "1ba903b7",
        "outputId": "a02524c7-700e-4743-8f2f-ed4d12787c14"
      },
      "outputs": [
        {
          "output_type": "stream",
          "name": "stdout",
          "text": [
            "2.580561555075594\n",
            "35.523802042007446\n"
          ]
        }
      ],
      "source": [
        "time1 = time()\n",
        "print(test_first_word('stare'))\n",
        "print(time() - time1)"
      ]
    },
    {
      "cell_type": "code",
      "execution_count": 21,
      "id": "9e8d3893",
      "metadata": {
        "colab": {
          "base_uri": "https://localhost:8080/"
        },
        "id": "9e8d3893",
        "outputId": "12120fe2-7576-471e-adb1-acde4b08639a"
      },
      "outputs": [
        {
          "output_type": "stream",
          "name": "stdout",
          "text": [
            "irate:2.4323974082073434\n",
            "stare:2.4168466522678185\n",
            "atone:2.4483801295896326\n",
            "arise:2.458315334773218\n",
            "raise:2.4457883369330453\n",
            "Time taken:4406.116089344025\n"
          ]
        }
      ],
      "source": [
        "words2 = ['adieu', 'reais', 'ratio', 'irate', 'stain', 'stare', 'ouija', 'audio', 'react', 'sired', 'tears', 'worse', 'atone', 'arise', 'raise', 'pizza']\n",
        "words = ['rates', 'stare', 'soare', 'later']\n",
        "time1 = time()\n",
        "for word in words:\n",
        "    print(f\"{word}:{test_first_word(word)}\")\n",
        "print(f\"Time taken:{time() - time1}\")"
      ]
    },
    {
      "cell_type": "code",
      "execution_count": 27,
      "id": "fee0e891",
      "metadata": {
        "colab": {
          "base_uri": "https://localhost:8080/"
        },
        "id": "fee0e891",
        "outputId": "cb9560a9-77c8-4a9b-bfbb-8527d2e4aa94"
      },
      "outputs": [
        {
          "output_type": "execute_result",
          "data": {
            "text/plain": [
              "166"
            ]
          },
          "metadata": {},
          "execution_count": 27
        }
      ],
      "source": [
        "simi_from_colour([1,1,0,0,2])\n",
        "#colour_from_simi(108)"
      ]
    },
    {
      "cell_type": "code",
      "execution_count": 28,
      "id": "6378611c",
      "metadata": {
        "colab": {
          "base_uri": "https://localhost:8080/"
        },
        "id": "6378611c",
        "outputId": "7fe6ebfb-7b54-4e80-cec9-3fee35eec094"
      },
      "outputs": [
        {
          "output_type": "stream",
          "name": "stdout",
          "text": [
            "['sweet', 'smite', 'spite', 'sleet', 'sheet', 'suite', 'smote']\n"
          ]
        }
      ],
      "source": [
        "x = filter('stare', 167, range(2315))\n",
        "y = filter('couth', 108, x)\n",
        "z = filter('flong', 84, y)\n",
        "print(display(x))"
      ]
    },
    {
      "cell_type": "code",
      "execution_count": 29,
      "id": "5ea3f957",
      "metadata": {
        "id": "5ea3f957"
      },
      "outputs": [],
      "source": [
        "x = filter_by_matrix(find_word('stare'), 167, simi_list)\n",
        "y = filter_by_matrix(find_word('couth'), 108, x)"
      ]
    },
    {
      "cell_type": "code",
      "execution_count": 32,
      "id": "7877a3db",
      "metadata": {
        "colab": {
          "base_uri": "https://localhost:8080/"
        },
        "id": "7877a3db",
        "outputId": "a84efa1e-5e65-419d-93f3-1b0477ab54f3"
      },
      "outputs": [
        {
          "output_type": "stream",
          "name": "stdout",
          "text": [
            "('hilum', 1.0)\n"
          ]
        }
      ],
      "source": [
        "print(best_next_word_matrix(x))"
      ]
    },
    {
      "cell_type": "code",
      "execution_count": null,
      "id": "7ceda58b",
      "metadata": {
        "id": "7ceda58b"
      },
      "outputs": [],
      "source": [
        ""
      ]
    }
  ],
  "metadata": {
    "kernelspec": {
      "display_name": "Python 3",
      "language": "python",
      "name": "python3"
    },
    "language_info": {
      "codemirror_mode": {
        "name": "ipython",
        "version": 3
      },
      "file_extension": ".py",
      "mimetype": "text/x-python",
      "name": "python",
      "nbconvert_exporter": "python",
      "pygments_lexer": "ipython3",
      "version": "3.8.8"
    },
    "colab": {
      "name": "Wordle2.ipynb",
      "provenance": [],
      "collapsed_sections": [],
      "include_colab_link": true
    }
  },
  "nbformat": 4,
  "nbformat_minor": 5
}